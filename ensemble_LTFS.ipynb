{
 "cells": [
  {
   "cell_type": "code",
   "execution_count": 7,
   "metadata": {},
   "outputs": [],
   "source": [
    "import pandas as pd\n",
    "import numpy as np"
   ]
  },
  {
   "cell_type": "code",
   "execution_count": 8,
   "metadata": {},
   "outputs": [],
   "source": [
    "df1 = pd.read_csv('rf_V32.csv') \n",
    "df2 = pd.read_csv('rf_V33.csv')\n",
    "df3 = pd.read_csv('lgbm_V30.csv')\n",
    "df4 = pd.read_csv('br_V31.csv')"
   ]
  },
  {
   "cell_type": "code",
   "execution_count": 9,
   "metadata": {},
   "outputs": [],
   "source": [
    "y_pred1 = np.array(df1['case_count'])\n",
    "y_pred2 = np.array(df2['case_count'])\n",
    "y_pred3 = np.array(df3['case_count'])\n",
    "y_pred4 = np.array(df4['case_count'])"
   ]
  },
  {
   "cell_type": "code",
   "execution_count": 61,
   "metadata": {},
   "outputs": [],
   "source": [
    "prob_pred_1=4/((1/y_pred1)+(1/y_pred3)+(1/y_pred4)+(1/y_pred2))\n",
    "df1['case_count'] = prob_pred_1\n",
    "df1.to_csv('ensemble_8.csv', index=False)"
   ]
  },
  {
   "cell_type": "code",
   "execution_count": null,
   "metadata": {},
   "outputs": [],
   "source": [
    "#### BEST SCORE\n",
    "\n",
    "prob_pred_1=3/((1/y_pred1)+(1/y_pred3)+(1/y_pred4))\n",
    "df1['case_count'] = prob_pred_1\n",
    "df1.to_csv('ensemble_9.csv', index=False)"
   ]
  }
 ],
 "metadata": {
  "kernelspec": {
   "display_name": "Python 3",
   "language": "python",
   "name": "python3"
  },
  "language_info": {
   "codemirror_mode": {
    "name": "ipython",
    "version": 3
   },
   "file_extension": ".py",
   "mimetype": "text/x-python",
   "name": "python",
   "nbconvert_exporter": "python",
   "pygments_lexer": "ipython3",
   "version": "3.7.3"
  }
 },
 "nbformat": 4,
 "nbformat_minor": 2
}
