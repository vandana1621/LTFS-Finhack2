{
 "cells": [
  {
   "cell_type": "code",
   "execution_count": 255,
   "metadata": {},
   "outputs": [],
   "source": [
    "import os\n",
    "import gc\n",
    "import pandas as pd\n",
    "import numpy as np\n",
    "from datetime import date\n",
    "import matplotlib.pyplot as plt\n",
    "import seaborn as sns\n",
    "\n",
    "import time\n",
    "from sklearn.model_selection import train_test_split\n",
    "import lightgbm as lgb\n",
    "import xgboost as xgb\n",
    "\n",
    "import warnings\n",
    "warnings.filterwarnings(\"ignore\")\n",
    "\n",
    "np.random.seed(0)"
   ]
  },
  {
   "cell_type": "code",
   "execution_count": 256,
   "metadata": {},
   "outputs": [
    {
     "data": {
      "text/plain": [
       "((80402, 6), (180, 3), (180, 4))"
      ]
     },
     "execution_count": 256,
     "metadata": {},
     "output_type": "execute_result"
    }
   ],
   "source": [
    "train = pd.read_csv(\"train_fwYjLYX.csv\", parse_dates=['application_date'])\n",
    "test = pd.read_csv(\"test_1eLl9Yf.csv\", parse_dates=['application_date'])\n",
    "submission = pd.read_csv(\"sample_submission_IIzFVsf.csv\", parse_dates=['application_date'])\n",
    "train.shape,test.shape,submission.shape"
   ]
  },
  {
   "cell_type": "code",
   "execution_count": 257,
   "metadata": {},
   "outputs": [],
   "source": [
    "test.drop(['id'], axis=1, inplace=True)\n",
    "train = train.sort_values('application_date').reset_index(drop = True)\n",
    "test = test.sort_values('application_date').reset_index(drop = True)"
   ]
  },
  {
   "cell_type": "code",
   "execution_count": 258,
   "metadata": {},
   "outputs": [
    {
     "data": {
      "text/plain": [
       "(Timestamp('2017-04-01 00:00:00'), Timestamp('2019-07-23 00:00:00'))"
      ]
     },
     "execution_count": 258,
     "metadata": {},
     "output_type": "execute_result"
    }
   ],
   "source": [
    "train.application_date.min(), train.application_date.max()"
   ]
  },
  {
   "cell_type": "code",
   "execution_count": 259,
   "metadata": {},
   "outputs": [
    {
     "data": {
      "text/plain": [
       "(Timestamp('2019-07-06 00:00:00'), Timestamp('2019-10-24 00:00:00'))"
      ]
     },
     "execution_count": 259,
     "metadata": {},
     "output_type": "execute_result"
    }
   ],
   "source": [
    "test.application_date.min(), test.application_date.max()"
   ]
  },
  {
   "cell_type": "code",
   "execution_count": 260,
   "metadata": {},
   "outputs": [
    {
     "name": "stdout",
     "output_type": "stream",
     "text": [
      "Combined df shape:(1830, 4)\n"
     ]
    },
    {
     "data": {
      "text/plain": [
       "201"
      ]
     },
     "execution_count": 260,
     "metadata": {},
     "output_type": "execute_result"
    }
   ],
   "source": [
    "agg_func = {'case_count': ['sum']}\n",
    "agg_name = train.groupby(['segment','application_date']).agg(agg_func)\n",
    "agg_name.columns = [ 'SA_' + ('_'.join(col).strip()) for col in agg_name.columns.values]\n",
    "agg_name.reset_index(inplace=True)\n",
    "train = train.merge(agg_name, on=['segment','application_date'], how='left')\n",
    "del agg_name\n",
    "train.drop(['branch_id','state','zone','case_count'], axis=1, inplace=True)\n",
    "train = train.rename(columns={'SA_case_count_sum': 'case_count'})\n",
    "train.drop_duplicates(keep='first', inplace=True)\n",
    "train = train.sort_values('application_date').reset_index(drop = True)\n",
    "# df = train.append(test, ignore_index=True,sort=False)\n",
    "\n",
    "train['train_or_test'] = 'train'\n",
    "test['train_or_test'] = 'test'\n",
    "df = pd.concat([train,test], sort=False)\n",
    "print('Combined df shape:{}'.format(df.shape))\n",
    "del train, test\n",
    "gc.collect()"
   ]
  },
  {
   "cell_type": "code",
   "execution_count": 261,
   "metadata": {
    "scrolled": true
   },
   "outputs": [
    {
     "data": {
      "text/html": [
       "<div>\n",
       "<style scoped>\n",
       "    .dataframe tbody tr th:only-of-type {\n",
       "        vertical-align: middle;\n",
       "    }\n",
       "\n",
       "    .dataframe tbody tr th {\n",
       "        vertical-align: top;\n",
       "    }\n",
       "\n",
       "    .dataframe thead th {\n",
       "        text-align: right;\n",
       "    }\n",
       "</style>\n",
       "<table border=\"1\" class=\"dataframe\">\n",
       "  <thead>\n",
       "    <tr style=\"text-align: right;\">\n",
       "      <th></th>\n",
       "      <th>application_date</th>\n",
       "      <th>segment</th>\n",
       "      <th>case_count</th>\n",
       "      <th>train_or_test</th>\n",
       "    </tr>\n",
       "  </thead>\n",
       "  <tbody>\n",
       "    <tr>\n",
       "      <th>0</th>\n",
       "      <td>2017-04-01</td>\n",
       "      <td>1</td>\n",
       "      <td>299.0</td>\n",
       "      <td>train</td>\n",
       "    </tr>\n",
       "    <tr>\n",
       "      <th>1</th>\n",
       "      <td>2017-04-01</td>\n",
       "      <td>2</td>\n",
       "      <td>897.0</td>\n",
       "      <td>train</td>\n",
       "    </tr>\n",
       "    <tr>\n",
       "      <th>2</th>\n",
       "      <td>2017-04-02</td>\n",
       "      <td>2</td>\n",
       "      <td>605.0</td>\n",
       "      <td>train</td>\n",
       "    </tr>\n",
       "    <tr>\n",
       "      <th>3</th>\n",
       "      <td>2017-04-03</td>\n",
       "      <td>1</td>\n",
       "      <td>42.0</td>\n",
       "      <td>train</td>\n",
       "    </tr>\n",
       "    <tr>\n",
       "      <th>4</th>\n",
       "      <td>2017-04-03</td>\n",
       "      <td>2</td>\n",
       "      <td>2016.0</td>\n",
       "      <td>train</td>\n",
       "    </tr>\n",
       "  </tbody>\n",
       "</table>\n",
       "</div>"
      ],
      "text/plain": [
       "  application_date  segment  case_count train_or_test\n",
       "0       2017-04-01        1       299.0         train\n",
       "1       2017-04-01        2       897.0         train\n",
       "2       2017-04-02        2       605.0         train\n",
       "3       2017-04-03        1        42.0         train\n",
       "4       2017-04-03        2      2016.0         train"
      ]
     },
     "execution_count": 261,
     "metadata": {},
     "output_type": "execute_result"
    }
   ],
   "source": [
    "df.head()"
   ]
  },
  {
   "cell_type": "code",
   "execution_count": 262,
   "metadata": {},
   "outputs": [
    {
     "data": {
      "text/html": [
       "<div>\n",
       "<style scoped>\n",
       "    .dataframe tbody tr th:only-of-type {\n",
       "        vertical-align: middle;\n",
       "    }\n",
       "\n",
       "    .dataframe tbody tr th {\n",
       "        vertical-align: top;\n",
       "    }\n",
       "\n",
       "    .dataframe thead th {\n",
       "        text-align: right;\n",
       "    }\n",
       "</style>\n",
       "<table border=\"1\" class=\"dataframe\">\n",
       "  <thead>\n",
       "    <tr style=\"text-align: right;\">\n",
       "      <th></th>\n",
       "      <th>application_date</th>\n",
       "      <th>segment</th>\n",
       "      <th>case_count</th>\n",
       "      <th>train_or_test</th>\n",
       "      <th>dayofmonth</th>\n",
       "      <th>dayofyear</th>\n",
       "      <th>dayofweek</th>\n",
       "      <th>month</th>\n",
       "      <th>year</th>\n",
       "      <th>weekofyear</th>\n",
       "      <th>is_month_start</th>\n",
       "      <th>is_month_end</th>\n",
       "    </tr>\n",
       "  </thead>\n",
       "  <tbody>\n",
       "    <tr>\n",
       "      <th>0</th>\n",
       "      <td>2017-04-01</td>\n",
       "      <td>1</td>\n",
       "      <td>299.0</td>\n",
       "      <td>train</td>\n",
       "      <td>1</td>\n",
       "      <td>91</td>\n",
       "      <td>5</td>\n",
       "      <td>4</td>\n",
       "      <td>2017</td>\n",
       "      <td>13</td>\n",
       "      <td>1</td>\n",
       "      <td>0</td>\n",
       "    </tr>\n",
       "    <tr>\n",
       "      <th>1</th>\n",
       "      <td>2017-04-01</td>\n",
       "      <td>2</td>\n",
       "      <td>897.0</td>\n",
       "      <td>train</td>\n",
       "      <td>1</td>\n",
       "      <td>91</td>\n",
       "      <td>5</td>\n",
       "      <td>4</td>\n",
       "      <td>2017</td>\n",
       "      <td>13</td>\n",
       "      <td>1</td>\n",
       "      <td>0</td>\n",
       "    </tr>\n",
       "    <tr>\n",
       "      <th>2</th>\n",
       "      <td>2017-04-02</td>\n",
       "      <td>2</td>\n",
       "      <td>605.0</td>\n",
       "      <td>train</td>\n",
       "      <td>2</td>\n",
       "      <td>92</td>\n",
       "      <td>6</td>\n",
       "      <td>4</td>\n",
       "      <td>2017</td>\n",
       "      <td>13</td>\n",
       "      <td>0</td>\n",
       "      <td>0</td>\n",
       "    </tr>\n",
       "    <tr>\n",
       "      <th>3</th>\n",
       "      <td>2017-04-03</td>\n",
       "      <td>1</td>\n",
       "      <td>42.0</td>\n",
       "      <td>train</td>\n",
       "      <td>3</td>\n",
       "      <td>93</td>\n",
       "      <td>0</td>\n",
       "      <td>4</td>\n",
       "      <td>2017</td>\n",
       "      <td>14</td>\n",
       "      <td>0</td>\n",
       "      <td>0</td>\n",
       "    </tr>\n",
       "    <tr>\n",
       "      <th>4</th>\n",
       "      <td>2017-04-03</td>\n",
       "      <td>2</td>\n",
       "      <td>2016.0</td>\n",
       "      <td>train</td>\n",
       "      <td>3</td>\n",
       "      <td>93</td>\n",
       "      <td>0</td>\n",
       "      <td>4</td>\n",
       "      <td>2017</td>\n",
       "      <td>14</td>\n",
       "      <td>0</td>\n",
       "      <td>0</td>\n",
       "    </tr>\n",
       "  </tbody>\n",
       "</table>\n",
       "</div>"
      ],
      "text/plain": [
       "  application_date  segment  case_count train_or_test  dayofmonth  dayofyear  \\\n",
       "0       2017-04-01        1       299.0         train           1         91   \n",
       "1       2017-04-01        2       897.0         train           1         91   \n",
       "2       2017-04-02        2       605.0         train           2         92   \n",
       "3       2017-04-03        1        42.0         train           3         93   \n",
       "4       2017-04-03        2      2016.0         train           3         93   \n",
       "\n",
       "   dayofweek  month  year  weekofyear  is_month_start  is_month_end  \n",
       "0          5      4  2017          13               1             0  \n",
       "1          5      4  2017          13               1             0  \n",
       "2          6      4  2017          13               0             0  \n",
       "3          0      4  2017          14               0             0  \n",
       "4          0      4  2017          14               0             0  "
      ]
     },
     "execution_count": 262,
     "metadata": {},
     "output_type": "execute_result"
    }
   ],
   "source": [
    "# Extracting application_date features\n",
    "df['dayofmonth'] = df.application_date.dt.day\n",
    "df['dayofyear'] = df.application_date.dt.dayofyear\n",
    "df['dayofweek'] = df.application_date.dt.dayofweek\n",
    "df['month'] = df.application_date.dt.month\n",
    "df['year'] = df.application_date.dt.year\n",
    "df['weekofyear'] = df.application_date.dt.weekofyear\n",
    "df['is_month_start'] = (df.application_date.dt.is_month_start).astype(int)\n",
    "df['is_month_end'] = (df.application_date.dt.is_month_end).astype(int)\n",
    "df.head()"
   ]
  },
  {
   "cell_type": "code",
   "execution_count": 263,
   "metadata": {},
   "outputs": [
    {
     "data": {
      "text/html": [
       "<div>\n",
       "<style scoped>\n",
       "    .dataframe tbody tr th:only-of-type {\n",
       "        vertical-align: middle;\n",
       "    }\n",
       "\n",
       "    .dataframe tbody tr th {\n",
       "        vertical-align: top;\n",
       "    }\n",
       "\n",
       "    .dataframe thead th {\n",
       "        text-align: right;\n",
       "    }\n",
       "</style>\n",
       "<table border=\"1\" class=\"dataframe\">\n",
       "  <thead>\n",
       "    <tr style=\"text-align: right;\">\n",
       "      <th></th>\n",
       "      <th>application_date</th>\n",
       "      <th>segment</th>\n",
       "      <th>case_count</th>\n",
       "      <th>train_or_test</th>\n",
       "      <th>dayofmonth</th>\n",
       "      <th>dayofyear</th>\n",
       "      <th>dayofweek</th>\n",
       "      <th>month</th>\n",
       "      <th>year</th>\n",
       "      <th>weekofyear</th>\n",
       "      <th>is_month_start</th>\n",
       "      <th>is_month_end</th>\n",
       "    </tr>\n",
       "  </thead>\n",
       "  <tbody>\n",
       "    <tr>\n",
       "      <th>0</th>\n",
       "      <td>2017-04-01</td>\n",
       "      <td>1</td>\n",
       "      <td>299.0</td>\n",
       "      <td>train</td>\n",
       "      <td>1</td>\n",
       "      <td>91</td>\n",
       "      <td>5</td>\n",
       "      <td>4</td>\n",
       "      <td>2017</td>\n",
       "      <td>13</td>\n",
       "      <td>1</td>\n",
       "      <td>0</td>\n",
       "    </tr>\n",
       "    <tr>\n",
       "      <th>3</th>\n",
       "      <td>2017-04-03</td>\n",
       "      <td>1</td>\n",
       "      <td>42.0</td>\n",
       "      <td>train</td>\n",
       "      <td>3</td>\n",
       "      <td>93</td>\n",
       "      <td>0</td>\n",
       "      <td>4</td>\n",
       "      <td>2017</td>\n",
       "      <td>14</td>\n",
       "      <td>0</td>\n",
       "      <td>0</td>\n",
       "    </tr>\n",
       "  </tbody>\n",
       "</table>\n",
       "</div>"
      ],
      "text/plain": [
       "  application_date  segment  case_count train_or_test  dayofmonth  dayofyear  \\\n",
       "0       2017-04-01        1       299.0         train           1         91   \n",
       "3       2017-04-03        1        42.0         train           3         93   \n",
       "\n",
       "   dayofweek  month  year  weekofyear  is_month_start  is_month_end  \n",
       "0          5      4  2017          13               1             0  \n",
       "3          0      4  2017          14               0             0  "
      ]
     },
     "execution_count": 263,
     "metadata": {},
     "output_type": "execute_result"
    }
   ],
   "source": [
    "df.sort_values(by=['segment','application_date'], axis=0, inplace=True)\n",
    "df.head(2)"
   ]
  },
  {
   "cell_type": "code",
   "execution_count": 264,
   "metadata": {},
   "outputs": [],
   "source": [
    "# Features constructed from previous case_count values\n",
    "\n",
    "# Creating case_count lag features\n",
    "def create_case_count_lag_feats(df, gpby_cols, target_col, lags):\n",
    "    gpby = df.groupby(gpby_cols)\n",
    "    for i in lags:\n",
    "        df['_'.join([target_col, 'lag', str(i)])] = \\\n",
    "                gpby[target_col].shift(i).values + np.random.normal(scale=1.6, size=(len(df),))\n",
    "    return df\n",
    "\n",
    "# Creating case_count rolling mean features\n",
    "def create_case_count_rmean_feats(df, gpby_cols, target_col, windows, min_periods=2, \n",
    "                             shift=1, win_type=None):\n",
    "    gpby = df.groupby(gpby_cols)\n",
    "    for w in windows:\n",
    "        df['_'.join([target_col, 'rmean',str(shift), str(w)])] = \\\n",
    "            gpby[target_col].shift(shift).rolling(window=w, \n",
    "                                                  min_periods=min_periods,\n",
    "                                                  win_type=win_type).mean().values + np.random.normal(scale=1.6, size=(len(df),))\n",
    "    return df\n",
    "\n",
    "# Creating case_count exponentially weighted mean features\n",
    "def create_case_count_ewm_feats(df, gpby_cols, target_col, alpha=[0.9], shift=[1]):\n",
    "    gpby = df.groupby(gpby_cols)\n",
    "    for a in alpha:\n",
    "        for s in shift:\n",
    "            df['_'.join([target_col, 'lag', str(s), 'ewm', str(a)])] = \\\n",
    "                gpby[target_col].shift(s).ewm(alpha=a).mean().values + np.random.normal(scale=1.6, size=(len(df),))\n",
    "    return df"
   ]
  },
  {
   "cell_type": "code",
   "execution_count": 265,
   "metadata": {},
   "outputs": [],
   "source": [
    "# OHE of categorical features\n",
    "\n",
    "def one_hot_encoder(df, ohe_cols=['dayofmonth','dayofweek','month','weekofyear']):\n",
    "    '''\n",
    "    One-Hot Encoder function\n",
    "    '''\n",
    "    print('Creating OHE features..\\nOld df shape:{}'.format(df.shape))\n",
    "    df = pd.get_dummies(df, columns=ohe_cols)\n",
    "    print('New df shape:{}'.format(df.shape))\n",
    "    return df"
   ]
  },
  {
   "cell_type": "code",
   "execution_count": 266,
   "metadata": {},
   "outputs": [
    {
     "data": {
      "text/html": [
       "<div>\n",
       "<style scoped>\n",
       "    .dataframe tbody tr th:only-of-type {\n",
       "        vertical-align: middle;\n",
       "    }\n",
       "\n",
       "    .dataframe tbody tr th {\n",
       "        vertical-align: top;\n",
       "    }\n",
       "\n",
       "    .dataframe thead th {\n",
       "        text-align: right;\n",
       "    }\n",
       "</style>\n",
       "<table border=\"1\" class=\"dataframe\">\n",
       "  <thead>\n",
       "    <tr style=\"text-align: right;\">\n",
       "      <th></th>\n",
       "      <th>application_date</th>\n",
       "      <th>segment</th>\n",
       "      <th>case_count</th>\n",
       "      <th>train_or_test</th>\n",
       "      <th>dayofmonth</th>\n",
       "      <th>dayofyear</th>\n",
       "      <th>dayofweek</th>\n",
       "      <th>month</th>\n",
       "      <th>year</th>\n",
       "      <th>weekofyear</th>\n",
       "      <th>is_month_start</th>\n",
       "      <th>is_month_end</th>\n",
       "    </tr>\n",
       "  </thead>\n",
       "  <tbody>\n",
       "    <tr>\n",
       "      <th>0</th>\n",
       "      <td>2017-04-01</td>\n",
       "      <td>1</td>\n",
       "      <td>5.703782</td>\n",
       "      <td>train</td>\n",
       "      <td>1</td>\n",
       "      <td>91</td>\n",
       "      <td>5</td>\n",
       "      <td>4</td>\n",
       "      <td>2017</td>\n",
       "      <td>13</td>\n",
       "      <td>1</td>\n",
       "      <td>0</td>\n",
       "    </tr>\n",
       "    <tr>\n",
       "      <th>3</th>\n",
       "      <td>2017-04-03</td>\n",
       "      <td>1</td>\n",
       "      <td>3.761200</td>\n",
       "      <td>train</td>\n",
       "      <td>3</td>\n",
       "      <td>93</td>\n",
       "      <td>0</td>\n",
       "      <td>4</td>\n",
       "      <td>2017</td>\n",
       "      <td>14</td>\n",
       "      <td>0</td>\n",
       "      <td>0</td>\n",
       "    </tr>\n",
       "  </tbody>\n",
       "</table>\n",
       "</div>"
      ],
      "text/plain": [
       "  application_date  segment  case_count train_or_test  dayofmonth  dayofyear  \\\n",
       "0       2017-04-01        1    5.703782         train           1         91   \n",
       "3       2017-04-03        1    3.761200         train           3         93   \n",
       "\n",
       "   dayofweek  month  year  weekofyear  is_month_start  is_month_end  \n",
       "0          5      4  2017          13               1             0  \n",
       "3          0      4  2017          14               0             0  "
      ]
     },
     "execution_count": 266,
     "metadata": {},
     "output_type": "execute_result"
    }
   ],
   "source": [
    "# Converting case_count to log(1+case_count)\n",
    "df['case_count'] = np.log1p(df.case_count.values)\n",
    "df.head(2)"
   ]
  },
  {
   "cell_type": "code",
   "execution_count": 267,
   "metadata": {},
   "outputs": [
    {
     "name": "stdout",
     "output_type": "stream",
     "text": [
      "Train shape: (1428, 12)\n",
      "Validation shape: (222, 12)\n",
      "No train shape: (0, 12)\n",
      "Test shape: (180, 12)\n"
     ]
    }
   ],
   "source": [
    "# Time-based Validation set\n",
    "\n",
    "# For validation to keep months also identical to test set we can choose period (same of 2018) as the validation set.\n",
    "\n",
    "masked_series = (df['application_date'] >= '2018-07-06') & (df['application_date'] <= '2018-10-24')\n",
    "masked_series2 = (df['application_date'] < '2018-07-06') & (df['application_date'] > '2018-10-24')\n",
    "df.loc[(masked_series), 'train_or_test'] = 'val'\n",
    "df.loc[(masked_series2), 'train_or_test'] = 'no_train'\n",
    "print('Train shape: {}'.format(df.loc[df.train_or_test=='train',:].shape))\n",
    "print('Validation shape: {}'.format(df.loc[df.train_or_test=='val',:].shape))\n",
    "print('No train shape: {}'.format(df.loc[df.train_or_test=='no_train',:].shape))\n",
    "print('Test shape: {}'.format(df.loc[df.train_or_test=='test',:].shape))"
   ]
  },
  {
   "cell_type": "code",
   "execution_count": 268,
   "metadata": {
    "scrolled": true
   },
   "outputs": [
    {
     "name": "stdout",
     "output_type": "stream",
     "text": [
      "Creating OHE features..\n",
      "Old df shape:(1650, 89)\n",
      "New df shape:(1650, 106)\n",
      "Train shape:(1428, 106), Val shape:(222, 106)\n"
     ]
    }
   ],
   "source": [
    "# Model Validation\n",
    "\n",
    "# Converting case_count of validation period to nan so as to resemble test period\n",
    "train = df.loc[df.train_or_test.isin(['train','val']), :]\n",
    "Y_val = train.loc[train.train_or_test=='val', 'case_count'].values.reshape((-1))\n",
    "Y_train = train.loc[train.train_or_test=='train', 'case_count'].values.reshape((-1))\n",
    "train.loc[train.train_or_test=='val', 'case_count'] = np.nan\n",
    "\n",
    "\n",
    "train['mean_segment_dayofmonth'] = train.groupby(['segment', 'dayofmonth'])['case_count'].transform('mean') + np.random.normal(scale=1.6, size=(len(train),))\n",
    "train['mean_segment_dayofyear'] = train.groupby(['segment', 'dayofyear'])['case_count'].transform('mean') + np.random.normal(scale=1.6, size=(len(train),))\n",
    "train['mean_segment_dayofweek'] = train.groupby(['segment', 'dayofweek'])['case_count'].transform('mean') + np.random.normal(scale=1.6, size=(len(train),))\n",
    "train['mean_segment_month'] = train.groupby(['segment', 'month'])['case_count'].transform('mean') + np.random.normal(scale=1.6, size=(len(train),))\n",
    "train['mean_segment_weekofyear'] = train.groupby(['segment', 'weekofyear'])['case_count'].transform('mean') + np.random.normal(scale=1.6, size=(len(train),))\n",
    "\n",
    "\n",
    "# # Creating case_count lag, rolling mean, rolling median, ohe features of the above train set\n",
    "train = create_case_count_lag_feats(train, gpby_cols=['segment'], target_col='case_count', \n",
    "                                    lags=[91,98,105,112,119,126,182,364,546,728])\n",
    "\n",
    "train = create_case_count_rmean_feats(train, gpby_cols=['segment'], \n",
    "                                 target_col='case_count', windows=[364,546], \n",
    "                                 min_periods=10, win_type='triang')\n",
    "\n",
    "train = create_case_count_ewm_feats(train, gpby_cols=['segment'], \n",
    "                               target_col='case_count', \n",
    "                               alpha=[0.95, 0.9, 0.8, 0.7, 0.6, 0.5], \n",
    "                               shift=[91,98,105,112,119,126,182,364,546,728])\n",
    "\n",
    "# One-Hot Encoding\n",
    "train = one_hot_encoder(train, ohe_cols=['dayofweek','month']) \n",
    "\n",
    "# Final train and val datasets\n",
    "val = train.loc[train.train_or_test=='val', :]\n",
    "train = train.loc[train.train_or_test=='train', :]\n",
    "print('Train shape:{}, Val shape:{}'.format(train.shape, val.shape))"
   ]
  },
  {
   "cell_type": "code",
   "execution_count": 269,
   "metadata": {
    "scrolled": true
   },
   "outputs": [
    {
     "name": "stdout",
     "output_type": "stream",
     "text": [
      "No of training features: 101 \n",
      "And they are:['segment', 'dayofmonth', 'dayofyear', 'weekofyear', 'is_month_end', 'mean_segment_dayofmonth', 'mean_segment_dayofyear', 'mean_segment_dayofweek', 'mean_segment_month', 'mean_segment_weekofyear', 'case_count_lag_91', 'case_count_lag_98', 'case_count_lag_105', 'case_count_lag_112', 'case_count_lag_119', 'case_count_lag_126', 'case_count_lag_182', 'case_count_lag_364', 'case_count_lag_546', 'case_count_lag_728', 'case_count_rmean_1_364', 'case_count_rmean_1_546', 'case_count_lag_91_ewm_0.95', 'case_count_lag_98_ewm_0.95', 'case_count_lag_105_ewm_0.95', 'case_count_lag_112_ewm_0.95', 'case_count_lag_119_ewm_0.95', 'case_count_lag_126_ewm_0.95', 'case_count_lag_182_ewm_0.95', 'case_count_lag_364_ewm_0.95', 'case_count_lag_546_ewm_0.95', 'case_count_lag_728_ewm_0.95', 'case_count_lag_91_ewm_0.9', 'case_count_lag_98_ewm_0.9', 'case_count_lag_105_ewm_0.9', 'case_count_lag_112_ewm_0.9', 'case_count_lag_119_ewm_0.9', 'case_count_lag_126_ewm_0.9', 'case_count_lag_182_ewm_0.9', 'case_count_lag_364_ewm_0.9', 'case_count_lag_546_ewm_0.9', 'case_count_lag_728_ewm_0.9', 'case_count_lag_91_ewm_0.8', 'case_count_lag_98_ewm_0.8', 'case_count_lag_105_ewm_0.8', 'case_count_lag_112_ewm_0.8', 'case_count_lag_119_ewm_0.8', 'case_count_lag_126_ewm_0.8', 'case_count_lag_182_ewm_0.8', 'case_count_lag_364_ewm_0.8', 'case_count_lag_546_ewm_0.8', 'case_count_lag_728_ewm_0.8', 'case_count_lag_91_ewm_0.7', 'case_count_lag_98_ewm_0.7', 'case_count_lag_105_ewm_0.7', 'case_count_lag_112_ewm_0.7', 'case_count_lag_119_ewm_0.7', 'case_count_lag_126_ewm_0.7', 'case_count_lag_182_ewm_0.7', 'case_count_lag_364_ewm_0.7', 'case_count_lag_546_ewm_0.7', 'case_count_lag_728_ewm_0.7', 'case_count_lag_91_ewm_0.6', 'case_count_lag_98_ewm_0.6', 'case_count_lag_105_ewm_0.6', 'case_count_lag_112_ewm_0.6', 'case_count_lag_119_ewm_0.6', 'case_count_lag_126_ewm_0.6', 'case_count_lag_182_ewm_0.6', 'case_count_lag_364_ewm_0.6', 'case_count_lag_546_ewm_0.6', 'case_count_lag_728_ewm_0.6', 'case_count_lag_91_ewm_0.5', 'case_count_lag_98_ewm_0.5', 'case_count_lag_105_ewm_0.5', 'case_count_lag_112_ewm_0.5', 'case_count_lag_119_ewm_0.5', 'case_count_lag_126_ewm_0.5', 'case_count_lag_182_ewm_0.5', 'case_count_lag_364_ewm_0.5', 'case_count_lag_546_ewm_0.5', 'case_count_lag_728_ewm_0.5', 'dayofweek_0', 'dayofweek_1', 'dayofweek_2', 'dayofweek_3', 'dayofweek_4', 'dayofweek_5', 'dayofweek_6', 'month_1', 'month_2', 'month_3', 'month_4', 'month_5', 'month_6', 'month_7', 'month_8', 'month_9', 'month_10', 'month_11', 'month_12']\n"
     ]
    }
   ],
   "source": [
    "avoid_cols = ['application_date', 'case_count', 'train_or_test', 'id', 'year','is_month_start']\n",
    "cols = [col for col in train.columns if col not in avoid_cols]\n",
    "print('No of training features: {} \\nAnd they are:{}'.format(len(cols), cols))"
   ]
  },
  {
   "cell_type": "code",
   "execution_count": 270,
   "metadata": {},
   "outputs": [],
   "source": [
    "def mean_absolute_percentage_error(y_true, y_pred): \n",
    "    y_true, y_pred = np.array(y_true), np.array(y_pred)\n",
    "    return np.mean(np.abs((y_true - y_pred) / y_true)) * 100"
   ]
  },
  {
   "cell_type": "code",
   "execution_count": 271,
   "metadata": {},
   "outputs": [
    {
     "data": {
      "text/plain": [
       "((1428, 101), (222, 101), (1428,), (222,))"
      ]
     },
     "execution_count": 271,
     "metadata": {},
     "output_type": "execute_result"
    }
   ],
   "source": [
    "train_x=train[cols]\n",
    "test_x=val[cols]\n",
    "train_y=Y_train\n",
    "test_y=Y_val\n",
    "train_x.shape, test_x.shape, train_y.shape, test_y.shape"
   ]
  },
  {
   "cell_type": "code",
   "execution_count": 272,
   "metadata": {},
   "outputs": [],
   "source": [
    "train_x.fillna(0,inplace=True)\n",
    "test_x.fillna(0,inplace=True)"
   ]
  },
  {
   "cell_type": "code",
   "execution_count": 244,
   "metadata": {
    "scrolled": true
   },
   "outputs": [
    {
     "name": "stdout",
     "output_type": "stream",
     "text": [
      "MAPE:  57.10979895883944\n"
     ]
    }
   ],
   "source": [
    "from sklearn.ensemble import RandomForestRegressor, BaggingRegressor\n",
    "m=BaggingRegressor(n_estimators=100,random_state=0,n_jobs=-1,oob_score= True)\n",
    "m.fit(train_x,train_y)\n",
    "preds=m.predict(test_x)\n",
    "predbr=np.expm1(preds)\n",
    "print(\"MAPE: \",(mean_absolute_percentage_error(np.expm1(test_y),predbr)))"
   ]
  },
  {
   "cell_type": "code",
   "execution_count": 273,
   "metadata": {},
   "outputs": [
    {
     "name": "stdout",
     "output_type": "stream",
     "text": [
      "Creating OHE features..\n",
      "Old df shape:(1830, 89)\n",
      "New df shape:(1830, 106)\n",
      "Train shape:(1650, 106), Test shape:(180, 106)\n"
     ]
    }
   ],
   "source": [
    "df['mean_segment_dayofmonth'] = df.groupby(['segment', 'dayofmonth'])['case_count'].transform('mean') + np.random.normal(scale=1.6, size=(len(df),))\n",
    "df['mean_segment_dayofyear'] = df.groupby(['segment', 'dayofyear'])['case_count'].transform('mean') + np.random.normal(scale=1.6, size=(len(df),))\n",
    "df['mean_segment_dayofweek'] = df.groupby(['segment', 'dayofweek'])['case_count'].transform('mean') + np.random.normal(scale=1.6, size=(len(df),))\n",
    "df['mean_segment_month'] = df.groupby(['segment', 'month'])['case_count'].transform('mean') + np.random.normal(scale=1.6, size=(len(df),))\n",
    "df['mean_segment_weekofyear'] = df.groupby(['segment', 'weekofyear'])['case_count'].transform('mean') + np.random.normal(scale=1.6, size=(len(df),))\n",
    "\n",
    "\n",
    "# Creating case_count lag, rolling mean, rolling median, ohe features of the above train set\n",
    "df_whole = create_case_count_lag_feats(df, gpby_cols=['segment'], target_col='case_count', \n",
    "                                  lags=[91,98,105,112,119,126,182,364,546,728])\n",
    "\n",
    "df_whole = create_case_count_rmean_feats(df_whole, gpby_cols=['segment'], \n",
    "                                    target_col='case_count', windows=[364,546], \n",
    "                                    min_periods=10, win_type='triang')\n",
    "\n",
    "df_whole = create_case_count_ewm_feats(df_whole, gpby_cols=['segment'], target_col='case_count', \n",
    "                                  alpha=[0.95, 0.9, 0.8, 0.7, 0.6, 0.5], \n",
    "                               shift=[91,98,105,112,119,126,182,364,546,728])\n",
    "\n",
    "# One-Hot Encoding\n",
    "df_whole = one_hot_encoder(df_whole, ohe_cols=['dayofweek','month'])\n",
    "\n",
    "# Final train and test datasets\n",
    "test = df_whole.loc[df_whole.train_or_test=='test', :]\n",
    "train = df_whole.loc[~(df_whole.train_or_test=='test'), :]\n",
    "print('Train shape:{}, Test shape:{}'.format(train.shape, test.shape))"
   ]
  },
  {
   "cell_type": "code",
   "execution_count": 274,
   "metadata": {
    "scrolled": true
   },
   "outputs": [
    {
     "data": {
      "text/plain": [
       "((1650, 106), (180, 106), (1650,))"
      ]
     },
     "execution_count": 274,
     "metadata": {},
     "output_type": "execute_result"
    }
   ],
   "source": [
    "train.shape, test.shape, train['case_count'].shape"
   ]
  },
  {
   "cell_type": "code",
   "execution_count": 275,
   "metadata": {},
   "outputs": [
    {
     "data": {
      "text/plain": [
       "((1650, 101), (180, 101), (1650,))"
      ]
     },
     "execution_count": 275,
     "metadata": {},
     "output_type": "execute_result"
    }
   ],
   "source": [
    "train_x=train[cols]\n",
    "test_x=test[cols]\n",
    "train_y=train['case_count']\n",
    "train_x.shape, test_x.shape, train_y.shape"
   ]
  },
  {
   "cell_type": "code",
   "execution_count": 276,
   "metadata": {},
   "outputs": [],
   "source": [
    "train_x.fillna(0,inplace=True)\n",
    "test_x.fillna(0,inplace=True)"
   ]
  },
  {
   "cell_type": "code",
   "execution_count": 277,
   "metadata": {},
   "outputs": [],
   "source": [
    "m=BaggingRegressor(n_estimators=1000,random_state=0,n_jobs=-1,oob_score= True)\n",
    "m.fit(train_x,train_y)\n",
    "predbr=m.predict(test_x)\n",
    "submission['case_count'] = np.expm1(predbr)\n",
    "submission.to_csv('br_V31.csv', index=False)"
   ]
  },
  {
   "cell_type": "code",
   "execution_count": null,
   "metadata": {},
   "outputs": [],
   "source": []
  }
 ],
 "metadata": {
  "kernelspec": {
   "display_name": "Python 3",
   "language": "python",
   "name": "python3"
  },
  "language_info": {
   "codemirror_mode": {
    "name": "ipython",
    "version": 3
   },
   "file_extension": ".py",
   "mimetype": "text/x-python",
   "name": "python",
   "nbconvert_exporter": "python",
   "pygments_lexer": "ipython3",
   "version": "3.7.3"
  }
 },
 "nbformat": 4,
 "nbformat_minor": 2
}
