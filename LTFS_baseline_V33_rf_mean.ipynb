{
 "cells": [
  {
   "cell_type": "code",
   "execution_count": 1,
   "metadata": {},
   "outputs": [],
   "source": [
    "import os\n",
    "import gc\n",
    "import pandas as pd\n",
    "import numpy as np\n",
    "from datetime import date\n",
    "import matplotlib.pyplot as plt\n",
    "import seaborn as sns\n",
    "\n",
    "import time\n",
    "from sklearn.model_selection import train_test_split\n",
    "import lightgbm as lgb\n",
    "import xgboost as xgb\n",
    "\n",
    "import warnings\n",
    "warnings.filterwarnings(\"ignore\")\n",
    "\n",
    "np.random.seed(0)"
   ]
  },
  {
   "cell_type": "code",
   "execution_count": 2,
   "metadata": {},
   "outputs": [
    {
     "data": {
      "text/plain": [
       "((80402, 6), (180, 3), (180, 4))"
      ]
     },
     "execution_count": 2,
     "metadata": {},
     "output_type": "execute_result"
    }
   ],
   "source": [
    "train = pd.read_csv(\"train_fwYjLYX.csv\", parse_dates=['application_date'])\n",
    "test = pd.read_csv(\"test_1eLl9Yf.csv\", parse_dates=['application_date'])\n",
    "submission = pd.read_csv(\"sample_submission_IIzFVsf.csv\", parse_dates=['application_date'])\n",
    "train.shape,test.shape,submission.shape"
   ]
  },
  {
   "cell_type": "code",
   "execution_count": 3,
   "metadata": {},
   "outputs": [],
   "source": [
    "test.drop(['id'], axis=1, inplace=True)\n",
    "train = train.sort_values('application_date').reset_index(drop = True)\n",
    "test = test.sort_values('application_date').reset_index(drop = True)"
   ]
  },
  {
   "cell_type": "code",
   "execution_count": 4,
   "metadata": {},
   "outputs": [
    {
     "data": {
      "text/plain": [
       "(Timestamp('2017-04-01 00:00:00'), Timestamp('2019-07-23 00:00:00'))"
      ]
     },
     "execution_count": 4,
     "metadata": {},
     "output_type": "execute_result"
    }
   ],
   "source": [
    "train.application_date.min(), train.application_date.max()"
   ]
  },
  {
   "cell_type": "code",
   "execution_count": 5,
   "metadata": {},
   "outputs": [
    {
     "data": {
      "text/plain": [
       "(Timestamp('2019-07-06 00:00:00'), Timestamp('2019-10-24 00:00:00'))"
      ]
     },
     "execution_count": 5,
     "metadata": {},
     "output_type": "execute_result"
    }
   ],
   "source": [
    "test.application_date.min(), test.application_date.max()"
   ]
  },
  {
   "cell_type": "code",
   "execution_count": 6,
   "metadata": {},
   "outputs": [
    {
     "name": "stdout",
     "output_type": "stream",
     "text": [
      "Combined df shape:(1830, 4)\n"
     ]
    },
    {
     "data": {
      "text/plain": [
       "77"
      ]
     },
     "execution_count": 6,
     "metadata": {},
     "output_type": "execute_result"
    }
   ],
   "source": [
    "agg_func = {'case_count': ['sum']}\n",
    "agg_name = train.groupby(['segment','application_date']).agg(agg_func)\n",
    "agg_name.columns = [ 'SA_' + ('_'.join(col).strip()) for col in agg_name.columns.values]\n",
    "agg_name.reset_index(inplace=True)\n",
    "train = train.merge(agg_name, on=['segment','application_date'], how='left')\n",
    "del agg_name\n",
    "train.drop(['branch_id','state','zone','case_count'], axis=1, inplace=True)\n",
    "train = train.rename(columns={'SA_case_count_sum': 'case_count'})\n",
    "train.drop_duplicates(keep='first', inplace=True)\n",
    "train = train.sort_values('application_date').reset_index(drop = True)\n",
    "# df = train.append(test, ignore_index=True,sort=False)\n",
    "\n",
    "train['train_or_test'] = 'train'\n",
    "test['train_or_test'] = 'test'\n",
    "df = pd.concat([train,test], sort=False)\n",
    "print('Combined df shape:{}'.format(df.shape))\n",
    "del train, test\n",
    "gc.collect()"
   ]
  },
  {
   "cell_type": "code",
   "execution_count": 7,
   "metadata": {
    "scrolled": true
   },
   "outputs": [
    {
     "data": {
      "text/html": [
       "<div>\n",
       "<style scoped>\n",
       "    .dataframe tbody tr th:only-of-type {\n",
       "        vertical-align: middle;\n",
       "    }\n",
       "\n",
       "    .dataframe tbody tr th {\n",
       "        vertical-align: top;\n",
       "    }\n",
       "\n",
       "    .dataframe thead th {\n",
       "        text-align: right;\n",
       "    }\n",
       "</style>\n",
       "<table border=\"1\" class=\"dataframe\">\n",
       "  <thead>\n",
       "    <tr style=\"text-align: right;\">\n",
       "      <th></th>\n",
       "      <th>application_date</th>\n",
       "      <th>segment</th>\n",
       "      <th>case_count</th>\n",
       "      <th>train_or_test</th>\n",
       "    </tr>\n",
       "  </thead>\n",
       "  <tbody>\n",
       "    <tr>\n",
       "      <th>0</th>\n",
       "      <td>2017-04-01</td>\n",
       "      <td>1</td>\n",
       "      <td>299.0</td>\n",
       "      <td>train</td>\n",
       "    </tr>\n",
       "    <tr>\n",
       "      <th>1</th>\n",
       "      <td>2017-04-01</td>\n",
       "      <td>2</td>\n",
       "      <td>897.0</td>\n",
       "      <td>train</td>\n",
       "    </tr>\n",
       "    <tr>\n",
       "      <th>2</th>\n",
       "      <td>2017-04-02</td>\n",
       "      <td>2</td>\n",
       "      <td>605.0</td>\n",
       "      <td>train</td>\n",
       "    </tr>\n",
       "    <tr>\n",
       "      <th>3</th>\n",
       "      <td>2017-04-03</td>\n",
       "      <td>1</td>\n",
       "      <td>42.0</td>\n",
       "      <td>train</td>\n",
       "    </tr>\n",
       "    <tr>\n",
       "      <th>4</th>\n",
       "      <td>2017-04-03</td>\n",
       "      <td>2</td>\n",
       "      <td>2016.0</td>\n",
       "      <td>train</td>\n",
       "    </tr>\n",
       "  </tbody>\n",
       "</table>\n",
       "</div>"
      ],
      "text/plain": [
       "  application_date  segment  case_count train_or_test\n",
       "0       2017-04-01        1       299.0         train\n",
       "1       2017-04-01        2       897.0         train\n",
       "2       2017-04-02        2       605.0         train\n",
       "3       2017-04-03        1        42.0         train\n",
       "4       2017-04-03        2      2016.0         train"
      ]
     },
     "execution_count": 7,
     "metadata": {},
     "output_type": "execute_result"
    }
   ],
   "source": [
    "df.head()"
   ]
  },
  {
   "cell_type": "code",
   "execution_count": 8,
   "metadata": {},
   "outputs": [
    {
     "data": {
      "text/html": [
       "<div>\n",
       "<style scoped>\n",
       "    .dataframe tbody tr th:only-of-type {\n",
       "        vertical-align: middle;\n",
       "    }\n",
       "\n",
       "    .dataframe tbody tr th {\n",
       "        vertical-align: top;\n",
       "    }\n",
       "\n",
       "    .dataframe thead th {\n",
       "        text-align: right;\n",
       "    }\n",
       "</style>\n",
       "<table border=\"1\" class=\"dataframe\">\n",
       "  <thead>\n",
       "    <tr style=\"text-align: right;\">\n",
       "      <th></th>\n",
       "      <th>application_date</th>\n",
       "      <th>segment</th>\n",
       "      <th>case_count</th>\n",
       "      <th>train_or_test</th>\n",
       "      <th>dayofmonth</th>\n",
       "      <th>dayofyear</th>\n",
       "      <th>dayofweek</th>\n",
       "      <th>month</th>\n",
       "      <th>year</th>\n",
       "      <th>weekofyear</th>\n",
       "      <th>is_month_start</th>\n",
       "      <th>is_month_end</th>\n",
       "    </tr>\n",
       "  </thead>\n",
       "  <tbody>\n",
       "    <tr>\n",
       "      <th>0</th>\n",
       "      <td>2017-04-01</td>\n",
       "      <td>1</td>\n",
       "      <td>299.0</td>\n",
       "      <td>train</td>\n",
       "      <td>1</td>\n",
       "      <td>91</td>\n",
       "      <td>5</td>\n",
       "      <td>4</td>\n",
       "      <td>2017</td>\n",
       "      <td>13</td>\n",
       "      <td>1</td>\n",
       "      <td>0</td>\n",
       "    </tr>\n",
       "    <tr>\n",
       "      <th>1</th>\n",
       "      <td>2017-04-01</td>\n",
       "      <td>2</td>\n",
       "      <td>897.0</td>\n",
       "      <td>train</td>\n",
       "      <td>1</td>\n",
       "      <td>91</td>\n",
       "      <td>5</td>\n",
       "      <td>4</td>\n",
       "      <td>2017</td>\n",
       "      <td>13</td>\n",
       "      <td>1</td>\n",
       "      <td>0</td>\n",
       "    </tr>\n",
       "    <tr>\n",
       "      <th>2</th>\n",
       "      <td>2017-04-02</td>\n",
       "      <td>2</td>\n",
       "      <td>605.0</td>\n",
       "      <td>train</td>\n",
       "      <td>2</td>\n",
       "      <td>92</td>\n",
       "      <td>6</td>\n",
       "      <td>4</td>\n",
       "      <td>2017</td>\n",
       "      <td>13</td>\n",
       "      <td>0</td>\n",
       "      <td>0</td>\n",
       "    </tr>\n",
       "    <tr>\n",
       "      <th>3</th>\n",
       "      <td>2017-04-03</td>\n",
       "      <td>1</td>\n",
       "      <td>42.0</td>\n",
       "      <td>train</td>\n",
       "      <td>3</td>\n",
       "      <td>93</td>\n",
       "      <td>0</td>\n",
       "      <td>4</td>\n",
       "      <td>2017</td>\n",
       "      <td>14</td>\n",
       "      <td>0</td>\n",
       "      <td>0</td>\n",
       "    </tr>\n",
       "    <tr>\n",
       "      <th>4</th>\n",
       "      <td>2017-04-03</td>\n",
       "      <td>2</td>\n",
       "      <td>2016.0</td>\n",
       "      <td>train</td>\n",
       "      <td>3</td>\n",
       "      <td>93</td>\n",
       "      <td>0</td>\n",
       "      <td>4</td>\n",
       "      <td>2017</td>\n",
       "      <td>14</td>\n",
       "      <td>0</td>\n",
       "      <td>0</td>\n",
       "    </tr>\n",
       "  </tbody>\n",
       "</table>\n",
       "</div>"
      ],
      "text/plain": [
       "  application_date  segment  case_count train_or_test  dayofmonth  dayofyear  \\\n",
       "0       2017-04-01        1       299.0         train           1         91   \n",
       "1       2017-04-01        2       897.0         train           1         91   \n",
       "2       2017-04-02        2       605.0         train           2         92   \n",
       "3       2017-04-03        1        42.0         train           3         93   \n",
       "4       2017-04-03        2      2016.0         train           3         93   \n",
       "\n",
       "   dayofweek  month  year  weekofyear  is_month_start  is_month_end  \n",
       "0          5      4  2017          13               1             0  \n",
       "1          5      4  2017          13               1             0  \n",
       "2          6      4  2017          13               0             0  \n",
       "3          0      4  2017          14               0             0  \n",
       "4          0      4  2017          14               0             0  "
      ]
     },
     "execution_count": 8,
     "metadata": {},
     "output_type": "execute_result"
    }
   ],
   "source": [
    "# Extracting application_date features\n",
    "df['dayofmonth'] = df.application_date.dt.day\n",
    "df['dayofyear'] = df.application_date.dt.dayofyear\n",
    "df['dayofweek'] = df.application_date.dt.dayofweek\n",
    "df['month'] = df.application_date.dt.month\n",
    "df['year'] = df.application_date.dt.year\n",
    "df['weekofyear'] = df.application_date.dt.weekofyear\n",
    "df['is_month_start'] = (df.application_date.dt.is_month_start).astype(int)\n",
    "df['is_month_end'] = (df.application_date.dt.is_month_end).astype(int)\n",
    "df.head()"
   ]
  },
  {
   "cell_type": "code",
   "execution_count": 9,
   "metadata": {},
   "outputs": [
    {
     "data": {
      "text/html": [
       "<div>\n",
       "<style scoped>\n",
       "    .dataframe tbody tr th:only-of-type {\n",
       "        vertical-align: middle;\n",
       "    }\n",
       "\n",
       "    .dataframe tbody tr th {\n",
       "        vertical-align: top;\n",
       "    }\n",
       "\n",
       "    .dataframe thead th {\n",
       "        text-align: right;\n",
       "    }\n",
       "</style>\n",
       "<table border=\"1\" class=\"dataframe\">\n",
       "  <thead>\n",
       "    <tr style=\"text-align: right;\">\n",
       "      <th></th>\n",
       "      <th>application_date</th>\n",
       "      <th>segment</th>\n",
       "      <th>case_count</th>\n",
       "      <th>train_or_test</th>\n",
       "      <th>dayofmonth</th>\n",
       "      <th>dayofyear</th>\n",
       "      <th>dayofweek</th>\n",
       "      <th>month</th>\n",
       "      <th>year</th>\n",
       "      <th>weekofyear</th>\n",
       "      <th>is_month_start</th>\n",
       "      <th>is_month_end</th>\n",
       "    </tr>\n",
       "  </thead>\n",
       "  <tbody>\n",
       "    <tr>\n",
       "      <th>0</th>\n",
       "      <td>2017-04-01</td>\n",
       "      <td>1</td>\n",
       "      <td>299.0</td>\n",
       "      <td>train</td>\n",
       "      <td>1</td>\n",
       "      <td>91</td>\n",
       "      <td>5</td>\n",
       "      <td>4</td>\n",
       "      <td>2017</td>\n",
       "      <td>13</td>\n",
       "      <td>1</td>\n",
       "      <td>0</td>\n",
       "    </tr>\n",
       "    <tr>\n",
       "      <th>3</th>\n",
       "      <td>2017-04-03</td>\n",
       "      <td>1</td>\n",
       "      <td>42.0</td>\n",
       "      <td>train</td>\n",
       "      <td>3</td>\n",
       "      <td>93</td>\n",
       "      <td>0</td>\n",
       "      <td>4</td>\n",
       "      <td>2017</td>\n",
       "      <td>14</td>\n",
       "      <td>0</td>\n",
       "      <td>0</td>\n",
       "    </tr>\n",
       "  </tbody>\n",
       "</table>\n",
       "</div>"
      ],
      "text/plain": [
       "  application_date  segment  case_count train_or_test  dayofmonth  dayofyear  \\\n",
       "0       2017-04-01        1       299.0         train           1         91   \n",
       "3       2017-04-03        1        42.0         train           3         93   \n",
       "\n",
       "   dayofweek  month  year  weekofyear  is_month_start  is_month_end  \n",
       "0          5      4  2017          13               1             0  \n",
       "3          0      4  2017          14               0             0  "
      ]
     },
     "execution_count": 9,
     "metadata": {},
     "output_type": "execute_result"
    }
   ],
   "source": [
    "df.sort_values(by=['segment','application_date'], axis=0, inplace=True)\n",
    "df.head(2)"
   ]
  },
  {
   "cell_type": "code",
   "execution_count": 10,
   "metadata": {},
   "outputs": [],
   "source": [
    "# Features constructed from previous case_count values\n",
    "\n",
    "# Creating case_count lag features\n",
    "def create_case_count_lag_feats(df, gpby_cols, target_col, lags):\n",
    "    gpby = df.groupby(gpby_cols)\n",
    "    for i in lags:\n",
    "        df['_'.join([target_col, 'lag', str(i)])] = \\\n",
    "                gpby[target_col].shift(i).values + np.random.normal(scale=1.6, size=(len(df),))\n",
    "    return df\n",
    "\n",
    "# Creating case_count rolling mean features\n",
    "def create_case_count_rmean_feats(df, gpby_cols, target_col, windows, min_periods=2, \n",
    "                             shift=1, win_type=None):\n",
    "    gpby = df.groupby(gpby_cols)\n",
    "    for w in windows:\n",
    "        df['_'.join([target_col, 'rmean',str(shift), str(w)])] = \\\n",
    "            gpby[target_col].shift(shift).rolling(window=w, \n",
    "                                                  min_periods=min_periods,\n",
    "                                                  win_type=win_type).mean().values + np.random.normal(scale=1.6, size=(len(df),))\n",
    "    return df\n",
    "\n",
    "# Creating case_count exponentially weighted mean features\n",
    "def create_case_count_ewm_feats(df, gpby_cols, target_col, alpha=[0.9], shift=[1]):\n",
    "    gpby = df.groupby(gpby_cols)\n",
    "    for a in alpha:\n",
    "        for s in shift:\n",
    "            df['_'.join([target_col, 'lag', str(s), 'ewm', str(a)])] = \\\n",
    "                gpby[target_col].shift(s).ewm(alpha=a).mean().values + np.random.normal(scale=1.6, size=(len(df),))\n",
    "    return df"
   ]
  },
  {
   "cell_type": "code",
   "execution_count": 11,
   "metadata": {},
   "outputs": [
    {
     "data": {
      "text/html": [
       "<div>\n",
       "<style scoped>\n",
       "    .dataframe tbody tr th:only-of-type {\n",
       "        vertical-align: middle;\n",
       "    }\n",
       "\n",
       "    .dataframe tbody tr th {\n",
       "        vertical-align: top;\n",
       "    }\n",
       "\n",
       "    .dataframe thead th {\n",
       "        text-align: right;\n",
       "    }\n",
       "</style>\n",
       "<table border=\"1\" class=\"dataframe\">\n",
       "  <thead>\n",
       "    <tr style=\"text-align: right;\">\n",
       "      <th></th>\n",
       "      <th>application_date</th>\n",
       "      <th>segment</th>\n",
       "      <th>case_count</th>\n",
       "      <th>train_or_test</th>\n",
       "      <th>dayofmonth</th>\n",
       "      <th>dayofyear</th>\n",
       "      <th>dayofweek</th>\n",
       "      <th>month</th>\n",
       "      <th>year</th>\n",
       "      <th>weekofyear</th>\n",
       "      <th>is_month_start</th>\n",
       "      <th>is_month_end</th>\n",
       "    </tr>\n",
       "  </thead>\n",
       "  <tbody>\n",
       "    <tr>\n",
       "      <th>0</th>\n",
       "      <td>2017-04-01</td>\n",
       "      <td>1</td>\n",
       "      <td>5.703782</td>\n",
       "      <td>train</td>\n",
       "      <td>1</td>\n",
       "      <td>91</td>\n",
       "      <td>5</td>\n",
       "      <td>4</td>\n",
       "      <td>2017</td>\n",
       "      <td>13</td>\n",
       "      <td>1</td>\n",
       "      <td>0</td>\n",
       "    </tr>\n",
       "    <tr>\n",
       "      <th>3</th>\n",
       "      <td>2017-04-03</td>\n",
       "      <td>1</td>\n",
       "      <td>3.761200</td>\n",
       "      <td>train</td>\n",
       "      <td>3</td>\n",
       "      <td>93</td>\n",
       "      <td>0</td>\n",
       "      <td>4</td>\n",
       "      <td>2017</td>\n",
       "      <td>14</td>\n",
       "      <td>0</td>\n",
       "      <td>0</td>\n",
       "    </tr>\n",
       "  </tbody>\n",
       "</table>\n",
       "</div>"
      ],
      "text/plain": [
       "  application_date  segment  case_count train_or_test  dayofmonth  dayofyear  \\\n",
       "0       2017-04-01        1    5.703782         train           1         91   \n",
       "3       2017-04-03        1    3.761200         train           3         93   \n",
       "\n",
       "   dayofweek  month  year  weekofyear  is_month_start  is_month_end  \n",
       "0          5      4  2017          13               1             0  \n",
       "3          0      4  2017          14               0             0  "
      ]
     },
     "execution_count": 11,
     "metadata": {},
     "output_type": "execute_result"
    }
   ],
   "source": [
    "# Converting case_count to log(1+case_count)\n",
    "df['case_count'] = np.log1p(df.case_count.values)\n",
    "df.head(2)"
   ]
  },
  {
   "cell_type": "code",
   "execution_count": 12,
   "metadata": {},
   "outputs": [
    {
     "name": "stdout",
     "output_type": "stream",
     "text": [
      "Train shape: (1428, 12)\n",
      "Validation shape: (222, 12)\n",
      "No train shape: (0, 12)\n",
      "Test shape: (180, 12)\n"
     ]
    }
   ],
   "source": [
    "# Time-based Validation set\n",
    "\n",
    "# For validation to keep months also identical to test set we can choose period (same of 2018) as the validation set.\n",
    "\n",
    "masked_series = (df['application_date'] >= '2018-07-06') & (df['application_date'] <= '2018-10-24')\n",
    "masked_series2 = (df['application_date'] < '2018-07-06') & (df['application_date'] > '2018-10-24')\n",
    "df.loc[(masked_series), 'train_or_test'] = 'val'\n",
    "df.loc[(masked_series2), 'train_or_test'] = 'no_train'\n",
    "print('Train shape: {}'.format(df.loc[df.train_or_test=='train',:].shape))\n",
    "print('Validation shape: {}'.format(df.loc[df.train_or_test=='val',:].shape))\n",
    "print('No train shape: {}'.format(df.loc[df.train_or_test=='no_train',:].shape))\n",
    "print('Test shape: {}'.format(df.loc[df.train_or_test=='test',:].shape))"
   ]
  },
  {
   "cell_type": "code",
   "execution_count": 13,
   "metadata": {
    "scrolled": true
   },
   "outputs": [
    {
     "name": "stdout",
     "output_type": "stream",
     "text": [
      "Train shape:(1428, 84), Val shape:(222, 84)\n"
     ]
    }
   ],
   "source": [
    "# Model Validation\n",
    "\n",
    "# Converting case_count of validation period to nan so as to resemble test period\n",
    "train = df.loc[df.train_or_test.isin(['train','val']), :]\n",
    "Y_val = train.loc[train.train_or_test=='val', 'case_count'].values.reshape((-1))\n",
    "Y_train = train.loc[train.train_or_test=='train', 'case_count'].values.reshape((-1))\n",
    "train.loc[train.train_or_test=='val', 'case_count'] = np.nan\n",
    "\n",
    "# # Creating case_count lag, rolling mean, rolling median, ohe features of the above train set\n",
    "train = create_case_count_lag_feats(train, gpby_cols=['segment'], target_col='case_count', \n",
    "                                    lags=[91,98,105,112,119,126,182,364,546,728])\n",
    "\n",
    "train = create_case_count_rmean_feats(train, gpby_cols=['segment'], \n",
    "                                 target_col='case_count', windows=[364,546], \n",
    "                                 min_periods=10, win_type='triang')\n",
    "\n",
    "train = create_case_count_ewm_feats(train, gpby_cols=['segment'], \n",
    "                               target_col='case_count', \n",
    "                               alpha=[0.95, 0.9, 0.8, 0.7, 0.6, 0.5], \n",
    "                               shift=[91,98,105,112,119,126,182,364,546,728])\n",
    "\n",
    "# Final train and val datasets\n",
    "val = train.loc[train.train_or_test=='val', :]\n",
    "train = train.loc[train.train_or_test=='train', :]\n",
    "print('Train shape:{}, Val shape:{}'.format(train.shape, val.shape))"
   ]
  },
  {
   "cell_type": "code",
   "execution_count": 14,
   "metadata": {
    "scrolled": true
   },
   "outputs": [
    {
     "name": "stdout",
     "output_type": "stream",
     "text": [
      "No of training features: 79 \n",
      "And they are:['segment', 'dayofmonth', 'dayofyear', 'dayofweek', 'month', 'weekofyear', 'is_month_end', 'case_count_lag_91', 'case_count_lag_98', 'case_count_lag_105', 'case_count_lag_112', 'case_count_lag_119', 'case_count_lag_126', 'case_count_lag_182', 'case_count_lag_364', 'case_count_lag_546', 'case_count_lag_728', 'case_count_rmean_1_364', 'case_count_rmean_1_546', 'case_count_lag_91_ewm_0.95', 'case_count_lag_98_ewm_0.95', 'case_count_lag_105_ewm_0.95', 'case_count_lag_112_ewm_0.95', 'case_count_lag_119_ewm_0.95', 'case_count_lag_126_ewm_0.95', 'case_count_lag_182_ewm_0.95', 'case_count_lag_364_ewm_0.95', 'case_count_lag_546_ewm_0.95', 'case_count_lag_728_ewm_0.95', 'case_count_lag_91_ewm_0.9', 'case_count_lag_98_ewm_0.9', 'case_count_lag_105_ewm_0.9', 'case_count_lag_112_ewm_0.9', 'case_count_lag_119_ewm_0.9', 'case_count_lag_126_ewm_0.9', 'case_count_lag_182_ewm_0.9', 'case_count_lag_364_ewm_0.9', 'case_count_lag_546_ewm_0.9', 'case_count_lag_728_ewm_0.9', 'case_count_lag_91_ewm_0.8', 'case_count_lag_98_ewm_0.8', 'case_count_lag_105_ewm_0.8', 'case_count_lag_112_ewm_0.8', 'case_count_lag_119_ewm_0.8', 'case_count_lag_126_ewm_0.8', 'case_count_lag_182_ewm_0.8', 'case_count_lag_364_ewm_0.8', 'case_count_lag_546_ewm_0.8', 'case_count_lag_728_ewm_0.8', 'case_count_lag_91_ewm_0.7', 'case_count_lag_98_ewm_0.7', 'case_count_lag_105_ewm_0.7', 'case_count_lag_112_ewm_0.7', 'case_count_lag_119_ewm_0.7', 'case_count_lag_126_ewm_0.7', 'case_count_lag_182_ewm_0.7', 'case_count_lag_364_ewm_0.7', 'case_count_lag_546_ewm_0.7', 'case_count_lag_728_ewm_0.7', 'case_count_lag_91_ewm_0.6', 'case_count_lag_98_ewm_0.6', 'case_count_lag_105_ewm_0.6', 'case_count_lag_112_ewm_0.6', 'case_count_lag_119_ewm_0.6', 'case_count_lag_126_ewm_0.6', 'case_count_lag_182_ewm_0.6', 'case_count_lag_364_ewm_0.6', 'case_count_lag_546_ewm_0.6', 'case_count_lag_728_ewm_0.6', 'case_count_lag_91_ewm_0.5', 'case_count_lag_98_ewm_0.5', 'case_count_lag_105_ewm_0.5', 'case_count_lag_112_ewm_0.5', 'case_count_lag_119_ewm_0.5', 'case_count_lag_126_ewm_0.5', 'case_count_lag_182_ewm_0.5', 'case_count_lag_364_ewm_0.5', 'case_count_lag_546_ewm_0.5', 'case_count_lag_728_ewm_0.5']\n"
     ]
    }
   ],
   "source": [
    "avoid_cols = ['application_date', 'case_count', 'train_or_test', 'id', 'year','is_month_start']\n",
    "cols = [col for col in train.columns if col not in avoid_cols]\n",
    "print('No of training features: {} \\nAnd they are:{}'.format(len(cols), cols))"
   ]
  },
  {
   "cell_type": "code",
   "execution_count": 15,
   "metadata": {},
   "outputs": [],
   "source": [
    "def mean_absolute_percentage_error(y_true, y_pred): \n",
    "    y_true, y_pred = np.array(y_true), np.array(y_pred)\n",
    "    return np.mean(np.abs((y_true - y_pred) / y_true)) * 100"
   ]
  },
  {
   "cell_type": "code",
   "execution_count": 16,
   "metadata": {},
   "outputs": [
    {
     "data": {
      "text/plain": [
       "((1428, 79), (222, 79), (1428,), (222,))"
      ]
     },
     "execution_count": 16,
     "metadata": {},
     "output_type": "execute_result"
    }
   ],
   "source": [
    "train_x=train[cols]\n",
    "test_x=val[cols]\n",
    "train_y=Y_train\n",
    "test_y=Y_val\n",
    "train_x.shape, test_x.shape, train_y.shape, test_y.shape"
   ]
  },
  {
   "cell_type": "code",
   "execution_count": 17,
   "metadata": {},
   "outputs": [],
   "source": [
    "train_x.fillna(0,inplace=True)\n",
    "test_x.fillna(0,inplace=True)"
   ]
  },
  {
   "cell_type": "code",
   "execution_count": 18,
   "metadata": {},
   "outputs": [
    {
     "name": "stdout",
     "output_type": "stream",
     "text": [
      "MAPE:  48.93419333450569\n"
     ]
    }
   ],
   "source": [
    "from sklearn.ensemble import RandomForestRegressor, BaggingRegressor\n",
    "m=RandomForestRegressor(n_estimators=100,random_state=0,max_depth= 10,criterion='mae',n_jobs=-1,oob_score= True, min_samples_leaf = 13)\n",
    "m.fit(train_x,train_y)\n",
    "preds=m.predict(test_x)\n",
    "predrf=np.expm1(preds)\n",
    "print(\"MAPE: \",(mean_absolute_percentage_error(np.expm1(test_y),predrf)))"
   ]
  },
  {
   "cell_type": "code",
   "execution_count": 19,
   "metadata": {
    "scrolled": true
   },
   "outputs": [
    {
     "data": {
      "text/html": [
       "<div>\n",
       "<style scoped>\n",
       "    .dataframe tbody tr th:only-of-type {\n",
       "        vertical-align: middle;\n",
       "    }\n",
       "\n",
       "    .dataframe tbody tr th {\n",
       "        vertical-align: top;\n",
       "    }\n",
       "\n",
       "    .dataframe thead th {\n",
       "        text-align: right;\n",
       "    }\n",
       "</style>\n",
       "<table border=\"1\" class=\"dataframe\">\n",
       "  <thead>\n",
       "    <tr style=\"text-align: right;\">\n",
       "      <th></th>\n",
       "      <th>feature</th>\n",
       "      <th>importance</th>\n",
       "    </tr>\n",
       "  </thead>\n",
       "  <tbody>\n",
       "    <tr>\n",
       "      <th>0</th>\n",
       "      <td>segment</td>\n",
       "      <td>0.428339</td>\n",
       "    </tr>\n",
       "    <tr>\n",
       "      <th>1</th>\n",
       "      <td>dayofmonth</td>\n",
       "      <td>0.306959</td>\n",
       "    </tr>\n",
       "    <tr>\n",
       "      <th>2</th>\n",
       "      <td>dayofweek</td>\n",
       "      <td>0.053426</td>\n",
       "    </tr>\n",
       "    <tr>\n",
       "      <th>3</th>\n",
       "      <td>case_count_lag_364</td>\n",
       "      <td>0.025684</td>\n",
       "    </tr>\n",
       "    <tr>\n",
       "      <th>4</th>\n",
       "      <td>case_count_lag_119_ewm_0.6</td>\n",
       "      <td>0.019082</td>\n",
       "    </tr>\n",
       "    <tr>\n",
       "      <th>5</th>\n",
       "      <td>is_month_end</td>\n",
       "      <td>0.018984</td>\n",
       "    </tr>\n",
       "    <tr>\n",
       "      <th>6</th>\n",
       "      <td>case_count_lag_91</td>\n",
       "      <td>0.015982</td>\n",
       "    </tr>\n",
       "    <tr>\n",
       "      <th>7</th>\n",
       "      <td>case_count_lag_364_ewm_0.7</td>\n",
       "      <td>0.013726</td>\n",
       "    </tr>\n",
       "    <tr>\n",
       "      <th>8</th>\n",
       "      <td>dayofyear</td>\n",
       "      <td>0.008444</td>\n",
       "    </tr>\n",
       "    <tr>\n",
       "      <th>9</th>\n",
       "      <td>case_count_lag_119_ewm_0.9</td>\n",
       "      <td>0.008177</td>\n",
       "    </tr>\n",
       "    <tr>\n",
       "      <th>10</th>\n",
       "      <td>case_count_lag_546_ewm_0.7</td>\n",
       "      <td>0.008117</td>\n",
       "    </tr>\n",
       "    <tr>\n",
       "      <th>11</th>\n",
       "      <td>weekofyear</td>\n",
       "      <td>0.006603</td>\n",
       "    </tr>\n",
       "    <tr>\n",
       "      <th>12</th>\n",
       "      <td>case_count_lag_119</td>\n",
       "      <td>0.006354</td>\n",
       "    </tr>\n",
       "    <tr>\n",
       "      <th>13</th>\n",
       "      <td>case_count_lag_546</td>\n",
       "      <td>0.005845</td>\n",
       "    </tr>\n",
       "    <tr>\n",
       "      <th>14</th>\n",
       "      <td>case_count_lag_119_ewm_0.95</td>\n",
       "      <td>0.004213</td>\n",
       "    </tr>\n",
       "    <tr>\n",
       "      <th>15</th>\n",
       "      <td>case_count_lag_182</td>\n",
       "      <td>0.004100</td>\n",
       "    </tr>\n",
       "    <tr>\n",
       "      <th>16</th>\n",
       "      <td>case_count_lag_112_ewm_0.5</td>\n",
       "      <td>0.004052</td>\n",
       "    </tr>\n",
       "    <tr>\n",
       "      <th>17</th>\n",
       "      <td>month</td>\n",
       "      <td>0.003977</td>\n",
       "    </tr>\n",
       "    <tr>\n",
       "      <th>18</th>\n",
       "      <td>case_count_lag_728</td>\n",
       "      <td>0.003135</td>\n",
       "    </tr>\n",
       "    <tr>\n",
       "      <th>19</th>\n",
       "      <td>case_count_lag_119_ewm_0.5</td>\n",
       "      <td>0.002301</td>\n",
       "    </tr>\n",
       "    <tr>\n",
       "      <th>20</th>\n",
       "      <td>case_count_lag_364_ewm_0.5</td>\n",
       "      <td>0.002288</td>\n",
       "    </tr>\n",
       "    <tr>\n",
       "      <th>21</th>\n",
       "      <td>case_count_lag_119_ewm_0.8</td>\n",
       "      <td>0.002024</td>\n",
       "    </tr>\n",
       "    <tr>\n",
       "      <th>22</th>\n",
       "      <td>case_count_lag_112_ewm_0.7</td>\n",
       "      <td>0.001959</td>\n",
       "    </tr>\n",
       "    <tr>\n",
       "      <th>23</th>\n",
       "      <td>case_count_rmean_1_364</td>\n",
       "      <td>0.001933</td>\n",
       "    </tr>\n",
       "    <tr>\n",
       "      <th>24</th>\n",
       "      <td>case_count_lag_546_ewm_0.6</td>\n",
       "      <td>0.001868</td>\n",
       "    </tr>\n",
       "    <tr>\n",
       "      <th>25</th>\n",
       "      <td>case_count_lag_91_ewm_0.9</td>\n",
       "      <td>0.001786</td>\n",
       "    </tr>\n",
       "    <tr>\n",
       "      <th>26</th>\n",
       "      <td>case_count_lag_126_ewm_0.5</td>\n",
       "      <td>0.001727</td>\n",
       "    </tr>\n",
       "    <tr>\n",
       "      <th>27</th>\n",
       "      <td>case_count_lag_112_ewm_0.95</td>\n",
       "      <td>0.001635</td>\n",
       "    </tr>\n",
       "    <tr>\n",
       "      <th>28</th>\n",
       "      <td>case_count_lag_98</td>\n",
       "      <td>0.001621</td>\n",
       "    </tr>\n",
       "    <tr>\n",
       "      <th>29</th>\n",
       "      <td>case_count_lag_119_ewm_0.7</td>\n",
       "      <td>0.001610</td>\n",
       "    </tr>\n",
       "    <tr>\n",
       "      <th>...</th>\n",
       "      <td>...</td>\n",
       "      <td>...</td>\n",
       "    </tr>\n",
       "    <tr>\n",
       "      <th>49</th>\n",
       "      <td>case_count_lag_91_ewm_0.7</td>\n",
       "      <td>0.000744</td>\n",
       "    </tr>\n",
       "    <tr>\n",
       "      <th>50</th>\n",
       "      <td>case_count_lag_98_ewm_0.6</td>\n",
       "      <td>0.000612</td>\n",
       "    </tr>\n",
       "    <tr>\n",
       "      <th>51</th>\n",
       "      <td>case_count_lag_182_ewm_0.8</td>\n",
       "      <td>0.000584</td>\n",
       "    </tr>\n",
       "    <tr>\n",
       "      <th>52</th>\n",
       "      <td>case_count_lag_91_ewm_0.95</td>\n",
       "      <td>0.000582</td>\n",
       "    </tr>\n",
       "    <tr>\n",
       "      <th>53</th>\n",
       "      <td>case_count_lag_112_ewm_0.9</td>\n",
       "      <td>0.000571</td>\n",
       "    </tr>\n",
       "    <tr>\n",
       "      <th>54</th>\n",
       "      <td>case_count_lag_126_ewm_0.6</td>\n",
       "      <td>0.000568</td>\n",
       "    </tr>\n",
       "    <tr>\n",
       "      <th>55</th>\n",
       "      <td>case_count_lag_364_ewm_0.8</td>\n",
       "      <td>0.000562</td>\n",
       "    </tr>\n",
       "    <tr>\n",
       "      <th>56</th>\n",
       "      <td>case_count_lag_112_ewm_0.8</td>\n",
       "      <td>0.000549</td>\n",
       "    </tr>\n",
       "    <tr>\n",
       "      <th>57</th>\n",
       "      <td>case_count_lag_98_ewm_0.8</td>\n",
       "      <td>0.000520</td>\n",
       "    </tr>\n",
       "    <tr>\n",
       "      <th>58</th>\n",
       "      <td>case_count_lag_112</td>\n",
       "      <td>0.000517</td>\n",
       "    </tr>\n",
       "    <tr>\n",
       "      <th>59</th>\n",
       "      <td>case_count_lag_105_ewm_0.95</td>\n",
       "      <td>0.000496</td>\n",
       "    </tr>\n",
       "    <tr>\n",
       "      <th>60</th>\n",
       "      <td>case_count_lag_98_ewm_0.5</td>\n",
       "      <td>0.000439</td>\n",
       "    </tr>\n",
       "    <tr>\n",
       "      <th>61</th>\n",
       "      <td>case_count_lag_126_ewm_0.95</td>\n",
       "      <td>0.000436</td>\n",
       "    </tr>\n",
       "    <tr>\n",
       "      <th>62</th>\n",
       "      <td>case_count_lag_105_ewm_0.9</td>\n",
       "      <td>0.000411</td>\n",
       "    </tr>\n",
       "    <tr>\n",
       "      <th>63</th>\n",
       "      <td>case_count_lag_98_ewm_0.9</td>\n",
       "      <td>0.000405</td>\n",
       "    </tr>\n",
       "    <tr>\n",
       "      <th>64</th>\n",
       "      <td>case_count_lag_91_ewm_0.6</td>\n",
       "      <td>0.000382</td>\n",
       "    </tr>\n",
       "    <tr>\n",
       "      <th>65</th>\n",
       "      <td>case_count_lag_98_ewm_0.7</td>\n",
       "      <td>0.000380</td>\n",
       "    </tr>\n",
       "    <tr>\n",
       "      <th>66</th>\n",
       "      <td>case_count_lag_126_ewm_0.7</td>\n",
       "      <td>0.000371</td>\n",
       "    </tr>\n",
       "    <tr>\n",
       "      <th>67</th>\n",
       "      <td>case_count_lag_105_ewm_0.7</td>\n",
       "      <td>0.000329</td>\n",
       "    </tr>\n",
       "    <tr>\n",
       "      <th>68</th>\n",
       "      <td>case_count_lag_546_ewm_0.95</td>\n",
       "      <td>0.000324</td>\n",
       "    </tr>\n",
       "    <tr>\n",
       "      <th>69</th>\n",
       "      <td>case_count_lag_126_ewm_0.8</td>\n",
       "      <td>0.000311</td>\n",
       "    </tr>\n",
       "    <tr>\n",
       "      <th>70</th>\n",
       "      <td>case_count_lag_728_ewm_0.9</td>\n",
       "      <td>0.000246</td>\n",
       "    </tr>\n",
       "    <tr>\n",
       "      <th>71</th>\n",
       "      <td>case_count_lag_105_ewm_0.6</td>\n",
       "      <td>0.000238</td>\n",
       "    </tr>\n",
       "    <tr>\n",
       "      <th>72</th>\n",
       "      <td>case_count_lag_98_ewm_0.95</td>\n",
       "      <td>0.000215</td>\n",
       "    </tr>\n",
       "    <tr>\n",
       "      <th>73</th>\n",
       "      <td>case_count_lag_364_ewm_0.6</td>\n",
       "      <td>0.000205</td>\n",
       "    </tr>\n",
       "    <tr>\n",
       "      <th>74</th>\n",
       "      <td>case_count_lag_728_ewm_0.7</td>\n",
       "      <td>0.000175</td>\n",
       "    </tr>\n",
       "    <tr>\n",
       "      <th>75</th>\n",
       "      <td>case_count_lag_728_ewm_0.6</td>\n",
       "      <td>0.000149</td>\n",
       "    </tr>\n",
       "    <tr>\n",
       "      <th>76</th>\n",
       "      <td>case_count_lag_728_ewm_0.5</td>\n",
       "      <td>0.000138</td>\n",
       "    </tr>\n",
       "    <tr>\n",
       "      <th>77</th>\n",
       "      <td>case_count_lag_728_ewm_0.8</td>\n",
       "      <td>0.000135</td>\n",
       "    </tr>\n",
       "    <tr>\n",
       "      <th>78</th>\n",
       "      <td>case_count_lag_728_ewm_0.95</td>\n",
       "      <td>0.000049</td>\n",
       "    </tr>\n",
       "  </tbody>\n",
       "</table>\n",
       "<p>79 rows × 2 columns</p>\n",
       "</div>"
      ],
      "text/plain": [
       "                        feature  importance\n",
       "0                       segment    0.428339\n",
       "1                    dayofmonth    0.306959\n",
       "2                     dayofweek    0.053426\n",
       "3            case_count_lag_364    0.025684\n",
       "4    case_count_lag_119_ewm_0.6    0.019082\n",
       "5                  is_month_end    0.018984\n",
       "6             case_count_lag_91    0.015982\n",
       "7    case_count_lag_364_ewm_0.7    0.013726\n",
       "8                     dayofyear    0.008444\n",
       "9    case_count_lag_119_ewm_0.9    0.008177\n",
       "10   case_count_lag_546_ewm_0.7    0.008117\n",
       "11                   weekofyear    0.006603\n",
       "12           case_count_lag_119    0.006354\n",
       "13           case_count_lag_546    0.005845\n",
       "14  case_count_lag_119_ewm_0.95    0.004213\n",
       "15           case_count_lag_182    0.004100\n",
       "16   case_count_lag_112_ewm_0.5    0.004052\n",
       "17                        month    0.003977\n",
       "18           case_count_lag_728    0.003135\n",
       "19   case_count_lag_119_ewm_0.5    0.002301\n",
       "20   case_count_lag_364_ewm_0.5    0.002288\n",
       "21   case_count_lag_119_ewm_0.8    0.002024\n",
       "22   case_count_lag_112_ewm_0.7    0.001959\n",
       "23       case_count_rmean_1_364    0.001933\n",
       "24   case_count_lag_546_ewm_0.6    0.001868\n",
       "25    case_count_lag_91_ewm_0.9    0.001786\n",
       "26   case_count_lag_126_ewm_0.5    0.001727\n",
       "27  case_count_lag_112_ewm_0.95    0.001635\n",
       "28            case_count_lag_98    0.001621\n",
       "29   case_count_lag_119_ewm_0.7    0.001610\n",
       "..                          ...         ...\n",
       "49    case_count_lag_91_ewm_0.7    0.000744\n",
       "50    case_count_lag_98_ewm_0.6    0.000612\n",
       "51   case_count_lag_182_ewm_0.8    0.000584\n",
       "52   case_count_lag_91_ewm_0.95    0.000582\n",
       "53   case_count_lag_112_ewm_0.9    0.000571\n",
       "54   case_count_lag_126_ewm_0.6    0.000568\n",
       "55   case_count_lag_364_ewm_0.8    0.000562\n",
       "56   case_count_lag_112_ewm_0.8    0.000549\n",
       "57    case_count_lag_98_ewm_0.8    0.000520\n",
       "58           case_count_lag_112    0.000517\n",
       "59  case_count_lag_105_ewm_0.95    0.000496\n",
       "60    case_count_lag_98_ewm_0.5    0.000439\n",
       "61  case_count_lag_126_ewm_0.95    0.000436\n",
       "62   case_count_lag_105_ewm_0.9    0.000411\n",
       "63    case_count_lag_98_ewm_0.9    0.000405\n",
       "64    case_count_lag_91_ewm_0.6    0.000382\n",
       "65    case_count_lag_98_ewm_0.7    0.000380\n",
       "66   case_count_lag_126_ewm_0.7    0.000371\n",
       "67   case_count_lag_105_ewm_0.7    0.000329\n",
       "68  case_count_lag_546_ewm_0.95    0.000324\n",
       "69   case_count_lag_126_ewm_0.8    0.000311\n",
       "70   case_count_lag_728_ewm_0.9    0.000246\n",
       "71   case_count_lag_105_ewm_0.6    0.000238\n",
       "72   case_count_lag_98_ewm_0.95    0.000215\n",
       "73   case_count_lag_364_ewm_0.6    0.000205\n",
       "74   case_count_lag_728_ewm_0.7    0.000175\n",
       "75   case_count_lag_728_ewm_0.6    0.000149\n",
       "76   case_count_lag_728_ewm_0.5    0.000138\n",
       "77   case_count_lag_728_ewm_0.8    0.000135\n",
       "78  case_count_lag_728_ewm_0.95    0.000049\n",
       "\n",
       "[79 rows x 2 columns]"
      ]
     },
     "execution_count": 19,
     "metadata": {},
     "output_type": "execute_result"
    }
   ],
   "source": [
    "feature_importance_df = pd.DataFrame()\n",
    "feature_importance_df[\"feature\"] = train_x.columns\n",
    "feature_importance_df[\"importance\"] = m.feature_importances_\n",
    "\n",
    "all_features = feature_importance_df[[\"feature\", \"importance\"]].groupby(\"feature\").mean().sort_values(by=\"importance\", ascending=False)\n",
    "all_features.reset_index(inplace=True)\n",
    "important_features = list(all_features[0:]['feature'])\n",
    "all_features[0:]"
   ]
  },
  {
   "cell_type": "code",
   "execution_count": 20,
   "metadata": {},
   "outputs": [
    {
     "name": "stdout",
     "output_type": "stream",
     "text": [
      "Train shape:(1650, 84), Test shape:(180, 84)\n"
     ]
    }
   ],
   "source": [
    "# Creating case_count lag, rolling mean, rolling median, ohe features of the above train set\n",
    "df_whole = create_case_count_lag_feats(df, gpby_cols=['segment'], target_col='case_count', \n",
    "                                  lags=[91,98,105,112,119,126,182,364,546,728])\n",
    "\n",
    "df_whole = create_case_count_rmean_feats(df_whole, gpby_cols=['segment'], \n",
    "                                    target_col='case_count', windows=[364,546], \n",
    "                                    min_periods=10, win_type='triang')\n",
    "\n",
    "df_whole = create_case_count_ewm_feats(df_whole, gpby_cols=['segment'], target_col='case_count', \n",
    "                                  alpha=[0.95, 0.9, 0.8, 0.7, 0.6, 0.5], \n",
    "                               shift=[91,98,105,112,119,126,182,364,546,728])\n",
    "\n",
    "# Final train and test datasets\n",
    "test = df_whole.loc[df_whole.train_or_test=='test', :]\n",
    "train = df_whole.loc[~(df_whole.train_or_test=='test'), :]\n",
    "print('Train shape:{}, Test shape:{}'.format(train.shape, test.shape))"
   ]
  },
  {
   "cell_type": "code",
   "execution_count": 21,
   "metadata": {
    "scrolled": true
   },
   "outputs": [
    {
     "data": {
      "text/plain": [
       "((1650, 84), (180, 84), (1650,))"
      ]
     },
     "execution_count": 21,
     "metadata": {},
     "output_type": "execute_result"
    }
   ],
   "source": [
    "train.shape, test.shape, train['case_count'].shape"
   ]
  },
  {
   "cell_type": "code",
   "execution_count": 22,
   "metadata": {},
   "outputs": [],
   "source": [
    "train_segment_1=train[train.segment==1]\n",
    "train_segment_1 = train_segment_1.sort_values('application_date').reset_index(drop = True)\n",
    "del train_segment_1['segment']\n",
    "\n",
    "test_segment_1=test[test.segment==1]\n",
    "test_segment_1 = test_segment_1.sort_values('application_date').reset_index(drop = True)\n",
    "del test_segment_1['segment']\n",
    "\n",
    "train_segment_2=train[train.segment==2]\n",
    "train_segment_2 = train_segment_2.sort_values('application_date').reset_index(drop = True)\n",
    "del train_segment_2['segment']\n",
    "\n",
    "test_segment_2=test[test.segment==2]\n",
    "test_segment_2 = test_segment_2.sort_values('application_date').reset_index(drop = True)\n",
    "del test_segment_2['segment']"
   ]
  },
  {
   "cell_type": "code",
   "execution_count": 23,
   "metadata": {},
   "outputs": [],
   "source": [
    "avoid_cols = ['application_date', 'case_count', 'train_or_test', 'id', 'year','is_month_start','segment']\n",
    "cols = [col for col in train.columns if col not in avoid_cols]"
   ]
  },
  {
   "cell_type": "code",
   "execution_count": 24,
   "metadata": {},
   "outputs": [
    {
     "data": {
      "text/plain": [
       "((806, 78), (87, 78), (806,))"
      ]
     },
     "execution_count": 24,
     "metadata": {},
     "output_type": "execute_result"
    }
   ],
   "source": [
    "train_x_segment_1=train_segment_1[cols]\n",
    "test_x_segment_1=test_segment_1[cols]\n",
    "train_y_segment_1=train_segment_1['case_count']\n",
    "train_x_segment_1.shape, test_x_segment_1.shape, train_y_segment_1.shape"
   ]
  },
  {
   "cell_type": "code",
   "execution_count": 25,
   "metadata": {},
   "outputs": [
    {
     "data": {
      "text/plain": [
       "((844, 78), (93, 78), (844,))"
      ]
     },
     "execution_count": 25,
     "metadata": {},
     "output_type": "execute_result"
    }
   ],
   "source": [
    "train_x_segment_2=train_segment_2[cols]\n",
    "test_x_segment_2=test_segment_2[cols]\n",
    "train_y_segment_2=train_segment_2['case_count']\n",
    "train_x_segment_2.shape, test_x_segment_2.shape, train_y_segment_2.shape"
   ]
  },
  {
   "cell_type": "code",
   "execution_count": 26,
   "metadata": {},
   "outputs": [],
   "source": [
    "train_x_segment_1.fillna(0,inplace=True)\n",
    "test_x_segment_1.fillna(0,inplace=True)\n",
    "train_x_segment_2.fillna(0,inplace=True)\n",
    "test_x_segment_2.fillna(0,inplace=True)"
   ]
  },
  {
   "cell_type": "code",
   "execution_count": 27,
   "metadata": {
    "scrolled": true
   },
   "outputs": [
    {
     "name": "stdout",
     "output_type": "stream",
     "text": [
      "MAPE:  1105.5984174767402\n",
      "MAPE:  261.52053125342746\n",
      "MAPE:  1711.2241326624467\n",
      "MAPE:  427.1994323641839\n",
      "MAPE:  260.1369698394274\n",
      "MAPE:  42.147081818809376\n",
      "MAPE:  580.9580164070808\n",
      "MAPE:  28.483473625451744\n",
      "MAPE:  47.257860774652904\n",
      "MAPE:  132.60187691786913\n",
      "MAPE:  66.99341002666465\n",
      "MAPE:  50.69940823902021\n",
      "MAPE:  44.786990135259494\n",
      "MAPE:  19.58873264064135\n",
      "MAPE:  488.0885639534526\n"
     ]
    }
   ],
   "source": [
    "MAPE_rf=[]\n",
    "y_pred_tot_rf=[]\n",
    "from sklearn.ensemble import RandomForestRegressor, BaggingRegressor\n",
    "from sklearn.ensemble import GradientBoostingRegressor\n",
    "from sklearn.model_selection import TimeSeriesSplit, KFold\n",
    "fold=KFold(n_splits=15, shuffle=False, random_state=0)\n",
    "i=1\n",
    "for train_index, test_index in fold.split(train_x_segment_1, train_y_segment_1):\n",
    "    X_train, X_test = train_x_segment_1.iloc[train_index], train_x_segment_1.iloc[test_index]\n",
    "    y_train, y_test = train_y_segment_1[train_index], train_y_segment_1[test_index]\n",
    "    m=RandomForestRegressor(n_estimators=1000,min_samples_split=5,min_samples_leaf = 13,max_depth= 20,\n",
    "                            n_jobs=-1,random_state=0,criterion='mae',oob_score= True)\n",
    "    m.fit(X_train,y_train)\n",
    "    preds=m.predict(X_test)\n",
    "    preds=np.expm1(preds)\n",
    "    print(\"MAPE: \",(mean_absolute_percentage_error(np.expm1(y_test),preds)))\n",
    "    MAPE_rf.append((mean_absolute_percentage_error(np.expm1(y_test),preds)))\n",
    "    p = m.predict(test_x_segment_1)\n",
    "    p=np.expm1(p)\n",
    "    i=i+1\n",
    "    y_pred_tot_rf.append(p)"
   ]
  },
  {
   "cell_type": "code",
   "execution_count": 28,
   "metadata": {
    "scrolled": true
   },
   "outputs": [],
   "source": [
    "mean_predrf_segment_1=np.mean(y_pred_tot_rf,0)"
   ]
  },
  {
   "cell_type": "code",
   "execution_count": 30,
   "metadata": {
    "scrolled": true
   },
   "outputs": [],
   "source": [
    "MAPE_rf=[]\n",
    "y_pred_tot_rf=[]\n",
    "from sklearn.ensemble import RandomForestRegressor, BaggingRegressor\n",
    "from sklearn.model_selection import TimeSeriesSplit, KFold\n",
    "fold=KFold(n_splits=15, shuffle=False, random_state=0)\n",
    "i=1\n",
    "for train_index, test_index in fold.split(train_x_segment_2, train_y_segment_2):\n",
    "    X_train, X_test = train_x_segment_2.iloc[train_index], train_x_segment_2.iloc[test_index]\n",
    "    y_train, y_test = train_y_segment_2[train_index], train_y_segment_2[test_index]\n",
    "    m=RandomForestRegressor(n_estimators=1000,min_samples_split=5,min_samples_leaf = 3,max_depth= 100,\n",
    "                            n_jobs=-1,random_state=0,criterion='mae',oob_score= True)\n",
    "    m.fit(X_train,y_train)\n",
    "    preds=m.predict(X_test)\n",
    "    preds=np.expm1(preds)\n",
    "    print(\"MAPE: \",(mean_absolute_percentage_error(np.expm1(y_test),preds)))\n",
    "    MAPE_rf.append((mean_absolute_percentage_error(np.expm1(y_test),preds)))\n",
    "    p = m.predict(test_x_segment_2)\n",
    "    p=np.expm1(p)\n",
    "    i=i+1\n",
    "    y_pred_tot_rf.append(p)"
   ]
  },
  {
   "cell_type": "code",
   "execution_count": null,
   "metadata": {},
   "outputs": [],
   "source": [
    "mean_predrf_segment_2=np.mean(y_pred_tot_rf,0)"
   ]
  },
  {
   "cell_type": "code",
   "execution_count": null,
   "metadata": {},
   "outputs": [],
   "source": [
    "predrf = np.concatenate((mean_predrf_segment_1, mean_predrf_segment_2), axis=None)\n",
    "predrf.shape\n",
    "submission['case_count'] = predrf\n",
    "submission.to_csv('rf_V33.csv', index=False)"
   ]
  },
  {
   "cell_type": "code",
   "execution_count": null,
   "metadata": {},
   "outputs": [],
   "source": []
  }
 ],
 "metadata": {
  "kernelspec": {
   "display_name": "Python 3",
   "language": "python",
   "name": "python3"
  },
  "language_info": {
   "codemirror_mode": {
    "name": "ipython",
    "version": 3
   },
   "file_extension": ".py",
   "mimetype": "text/x-python",
   "name": "python",
   "nbconvert_exporter": "python",
   "pygments_lexer": "ipython3",
   "version": "3.7.3"
  }
 },
 "nbformat": 4,
 "nbformat_minor": 2
}
